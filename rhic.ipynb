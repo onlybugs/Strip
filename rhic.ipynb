{
 "cells": [
  {
   "cell_type": "code",
   "execution_count": null,
   "metadata": {},
   "outputs": [],
   "source": [
    "# 22-7-4\n",
    "# kli\n",
    "# Rhic"
   ]
  },
  {
   "cell_type": "code",
   "execution_count": null,
   "metadata": {},
   "outputs": [],
   "source": [
    "import numpy as np\n",
    "from matplotlib import pyplot as plt\n",
    "import pandas as pd\n",
    "import cooler\n",
    "from sklearn.decomposition import PCA\n"
   ]
  },
  {
   "cell_type": "code",
   "execution_count": null,
   "metadata": {},
   "outputs": [],
   "source": [
    "def plot_matrix_pc_(matrix, pcs, title, r,vm, types = 'nomal'):\n",
    "    '''\n",
    "    plot a compartment and heatmap mix fig\n",
    "    r : ?????\n",
    "    '''\n",
    "    ##ax size\n",
    "    # par\n",
    "    left, width = 0.1, 0.65\n",
    "    bottom, height = 0.1, 0.65\n",
    "    size_heatmap = [left, bottom, width, height]\n",
    "    size_colorbar = [left + width + 0.04, bottom, width/20, height]\n",
    "    fig = plt.figure(figsize=(15,15))\n",
    "    \n",
    "    ##heatmap \n",
    "    # add plot obj.\n",
    "    ax = fig.add_axes(size_heatmap)\n",
    "    # delete 0 and then flat.\n",
    "    # 选择颜色栏的范围 取上95位点\n",
    "    nonzero = matrix[np.nonzero(matrix)]\n",
    "    vmax = np.percentile(nonzero,vm)\n",
    "    # print(vmax)\n",
    "    # x,y轴的范围\n",
    "    shp = matrix.shape\n",
    "    lenth = shp[0] # * r / 1000\n",
    "    # print(lenth)\n",
    "    # 是否使用95大小的位点\n",
    "    if types == 'nomal' :\n",
    "        sc = ax.imshow(matrix, cmap = plt.get_cmap('bwr'), vmax = vmax, vmin = 0-vmax,aspect = 'auto', interpolation = 'none', \n",
    "                   origin = 'upper',extent = (0, lenth, 0, lenth))\n",
    "    elif types == 'oe' :\n",
    "        sc = ax.imshow(matrix, cmap = plt.get_cmap('bwr'), vmax = 2, vmin = 0,aspect = 'auto', interpolation = 'none', \n",
    "                   origin = 'upper' ,extent = (0, lenth, 0, lenth))\n",
    "    ax.set_xlabel('Mb')\n",
    "    ax.set_ylabel(title[-1],fontsize=1)\n",
    "    \n",
    "    # 画图例\n",
    "    ax = fig.add_axes(size_colorbar)\n",
    "    fig.colorbar(sc,cax = ax)\n",
    "    \n",
    "    ##compartments  \n",
    "    # 精妙而又优雅\n",
    "    # 多个轴一起绘制 一个轴绘制一个\n",
    "    lens = len(pcs)\n",
    "    # 定义起始高度和每一个的高度\n",
    "    stept_h = 0.1 / lens\n",
    "    bottom_h = bottom + height + 0.01\n",
    "    # 画\n",
    "    for i in range(lens):\n",
    "        ax = fig.add_axes([left, bottom_h, width, stept_h])\n",
    "        # 绘图使用的x轴\n",
    "        x = np.arange(len(pcs[i])) \n",
    "        if(title[i] in ['edge','strength']):\n",
    "            x = x + 1\n",
    "        ax.fill_between(x, pcs[i])\n",
    "        # 使用geom_fill -- bar\n",
    "        # if(title[i] == 'out'):\n",
    "        #     # pass\n",
    "        #     maxidx = Findmax(pcs[i])\n",
    "        #     j = 0\n",
    "        #     for k in maxidx:\n",
    "        #         ax.plot(k+1,pcs[i][k],'o',c=colors[lab[j]],markersize = 0.6)\n",
    "        #         j += 1\n",
    "\n",
    "        if(title[i] == 'ins'):\n",
    "            # pass\n",
    "            maxidx = Findmax(pcs[i])\n",
    "            ax.plot(maxidx,pcs[i][maxidx],'o',color = 'red',markersize = 0.3)\n",
    "\n",
    "        ax.set_xlim((0,len(pcs[i])-1))\n",
    "        # 没用的去了\n",
    "        ax.set_xticks([])\n",
    "        ax.set_yticks([])\n",
    "        ax.set_ylabel(title[i], fontsize=8, rotation = 'horizontal', labelpad = 40)\n",
    "        ax.spines['top'].set_visible(False)\n",
    "        ax.spines['right'].set_visible(False)\n",
    "        ax.spines['left'].set_visible(False)\n",
    "        ax.spines['bottom'].set_visible(False)\n",
    "        # 下一个ax的高度\n",
    "        bottom_h = bottom_h + stept_h + 0.01\n",
    "    \n",
    "    return fig"
   ]
  },
  {
   "cell_type": "code",
   "execution_count": null,
   "metadata": {},
   "outputs": [],
   "source": [
    "fn = 'rhic/pedv_5.cooler'\n",
    "\n",
    "rdata = cooler.Cooler(fn)\n",
    "chr = rdata.chromnames\n",
    "rmat = rdata.matrix(balance=False)\n",
    "# rmat[np.isnan(rmat)] = 0\n",
    "pedv_mat = rmat[0:rmat.shape[0],0:rmat.shape[0]]\n",
    "\n",
    "cor_oe = np.corrcoef(pedv_mat)\n",
    "cor_oe[np.isnan(cor_oe)] = 0\n",
    "\n",
    "pca1 = PCA(n_components=3)\n",
    "pca1.fit(cor_oe)\n",
    "pc1 = pca1.components_\n"
   ]
  },
  {
   "cell_type": "code",
   "execution_count": null,
   "metadata": {},
   "outputs": [],
   "source": [
    "\n",
    "rmin = 1000\n",
    "rmax = 2000\n",
    "fig = plot_matrix_pc_(pedv_mat[rmin:rmax,rmin:rmax],[pc1[0,rmin:rmax],out1[rmin:rmax]],['pc1','out','pedv'],100,95)\n",
    "fig.savefig('test.pdf',format = 'pdf')"
   ]
  },
  {
   "cell_type": "code",
   "execution_count": null,
   "metadata": {},
   "outputs": [],
   "source": [
    "pedv_mat[rmin:rmax,rmin:rmax]"
   ]
  },
  {
   "cell_type": "code",
   "execution_count": null,
   "metadata": {},
   "outputs": [],
   "source": [
    "# from_k * len(base) -> our rect\n",
    "from email.mime import base\n",
    "\n",
    "\n",
    "from_k = 10\n",
    "lt = 10\n",
    "out = []\n",
    "\n",
    "def Getele(mat,site_m):\n",
    "    out = []\n",
    "    for i in range(site_m.shape[0]):\n",
    "        out.append(mat[tuple(site_m[i,:])])\n",
    "    # print(len(out))\n",
    "    return np.array(out)\n",
    "\n",
    "# 对角原始位置\n",
    "start = np.array([(from_k,from_k),(from_k+1,from_k+1),(from_k+2,from_k+2)])\n",
    "\n",
    "# 大的滑动\n",
    "for i in range(pedv_mat.shape[0] - from_k - lt):\n",
    "    base = start.copy()\n",
    "    curr_mat = Getele(pedv_mat,base)\n",
    "    # 小的推进\n",
    "    for i in range(1,lt):\n",
    "        if(i % 2 == 1):\n",
    "            base[:,1] = base[:,1] + 1\n",
    "        else:\n",
    "            base[:,0] = base[:,0] - 1\n",
    "        curr_mat = np.vstack((curr_mat,Getele(pedv_mat,base)))\n",
    "    out.append(curr_mat.sum())\n",
    "    start += 1\n",
    "\n",
    "out = np.array(out)"
   ]
  },
  {
   "cell_type": "code",
   "execution_count": null,
   "metadata": {},
   "outputs": [],
   "source": [
    "out1 = np.zeros(pedv_mat.shape[0])\n",
    "out1[from_k:pedv_mat.shape[0] - lt] = out\n",
    "out1.shape\n",
    "# 5624 5616"
   ]
  }
 ],
 "metadata": {
  "kernelspec": {
   "display_name": "Python 3.7.10 64-bit ('py37')",
   "language": "python",
   "name": "python3"
  },
  "language_info": {
   "codemirror_mode": {
    "name": "ipython",
    "version": 3
   },
   "file_extension": ".py",
   "mimetype": "text/x-python",
   "name": "python",
   "nbconvert_exporter": "python",
   "pygments_lexer": "ipython3",
   "version": "3.7.10"
  },
  "orig_nbformat": 4,
  "vscode": {
   "interpreter": {
    "hash": "e28b6b44da61d735f87746123449092d93c254e6264f58a35c644bf19b21407e"
   }
  }
 },
 "nbformat": 4,
 "nbformat_minor": 2
}
