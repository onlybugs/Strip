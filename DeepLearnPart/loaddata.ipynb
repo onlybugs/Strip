{
 "cells": [
  {
   "cell_type": "code",
   "execution_count": null,
   "metadata": {},
   "outputs": [],
   "source": [
    "# 22-5\n",
    "# kli\n",
    "# dataset dataloader\n",
    "\n",
    "from torch.utils.data import Dataset\n",
    "from torch.utils.data import DataLoader\n",
    "import numpy as np\n",
    "import torch as t\n",
    "from matplotlib import pyplot as plt"
   ]
  },
  {
   "cell_type": "code",
   "execution_count": null,
   "metadata": {},
   "outputs": [],
   "source": [
    "class MyDataSet(Dataset):\n",
    "    def __init__(self,fp):\n",
    "        file = np.load(fp)\n",
    "        self.yAE = file['AE']\n",
    "        self.X = file[\"Sample\"]\n",
    "        self.yl = file['label']\n",
    "        print(self.yl.shape)\n",
    "\n",
    "    def __getitem__(self,index):\n",
    "        \n",
    "        return self.X[index],self.yAE[index],self.yl[index]\n",
    "\n",
    "    def __len__(self):\n",
    "        \n",
    "        return self.yl.shape[0]\n",
    "\n",
    "traind = MyDataSet(\"train.npz\")"
   ]
  },
  {
   "cell_type": "code",
   "execution_count": null,
   "metadata": {},
   "outputs": [],
   "source": [
    "train_loader = DataLoader(traind,batch_size = 5,shuffle=True)"
   ]
  },
  {
   "cell_type": "code",
   "execution_count": null,
   "metadata": {},
   "outputs": [],
   "source": [
    "\n",
    "# traind[0][0].shape\n",
    "def plot3channel_data(data,save = False):\n",
    "    # 定义绘图区\n",
    "    left, width = 0.1, 0.8\n",
    "    bottom, height = 0.1, 0.2\n",
    "    size_heatmap = [left, bottom, width, height]\n",
    "    size_colorbar = [left + width + 0.04, bottom, width/20, height]\n",
    "    fig = plt.figure(figsize=(15,15))\n",
    "\n",
    "    for i in range(3):\n",
    "        ax = fig.add_axes(size_heatmap)\n",
    "        if(i == 0):\n",
    "            nonzero = data[0][i,...][np.nonzero(data[0][i,...])]\n",
    "            vmax = np.percentile(nonzero,90)\n",
    "            sc = ax.imshow(data[0][i,...].T,cmap = plt.get_cmap('bwr'), aspect = 'auto', \n",
    "                    interpolation = 'none',vmax = vmax,vmin = 0)\n",
    "        elif(i == 1):\n",
    "            sc = ax.imshow(data[0][i,...].T,cmap = plt.get_cmap('bwr'), aspect = 'auto', \n",
    "                    interpolation = 'none' ,vmax = 2,vmin = 0)\n",
    "        else:\n",
    "            sc = ax.imshow(data[0][i,...].T,cmap = plt.get_cmap('bwr'), aspect = 'auto', \n",
    "                    interpolation = 'none')\n",
    "\n",
    "        ax.set_xlabel('bin' + \" t:\" + str(data[2]))\n",
    "        # ax.set_ylabel(\"left-right\",fontsize=1)\n",
    "\n",
    "        ax = fig.add_axes(size_colorbar)\n",
    "        fig.colorbar(sc,cax = ax)\n",
    "\n",
    "        bottom = bottom + height + 0.05\n",
    "        size_heatmap = [left,bottom,width,height]\n",
    "        size_colorbar = [left + width + 0.04, bottom, width/20, height]\n",
    "\n",
    "    return fig\n",
    "# fig = plot3channel_data(traind[3])\n",
    "for i in range(10):\n",
    "    fig = plot3channel_data(traind[i+100])\n",
    "    fig.savefig(\"plot/\" + str(i) + \".png\",format = 'png')"
   ]
  }
 ],
 "metadata": {
  "interpreter": {
   "hash": "a33fb32654f0f6f4dbb1f6ef6db132c34f5009f9decb7266748863786e17e4f1"
  },
  "kernelspec": {
   "display_name": "Python 3.7.10 64-bit",
   "language": "python",
   "name": "python3"
  },
  "language_info": {
   "codemirror_mode": {
    "name": "ipython",
    "version": 3
   },
   "file_extension": ".py",
   "mimetype": "text/x-python",
   "name": "python",
   "nbconvert_exporter": "python",
   "pygments_lexer": "ipython3",
   "version": "3.7.10"
  },
  "orig_nbformat": 4
 },
 "nbformat": 4,
 "nbformat_minor": 2
}
